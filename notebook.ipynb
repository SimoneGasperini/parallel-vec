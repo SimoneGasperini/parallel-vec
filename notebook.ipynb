{
  "nbformat": 4,
  "nbformat_minor": 0,
  "metadata": {
    "colab": {
      "name": "notebook.ipynb",
      "provenance": [],
      "collapsed_sections": []
    },
    "kernelspec": {
      "name": "python3",
      "display_name": "Python 3"
    },
    "language_info": {
      "name": "python"
    },
    "accelerator": "GPU",
    "gpuClass": "standard"
  },
  "cells": [
    {
      "cell_type": "code",
      "source": [
        "# check the nvidia cuda compiler\n",
        "!nvcc --version"
      ],
      "metadata": {
        "colab": {
          "base_uri": "https://localhost:8080/"
        },
        "id": "Oz16DZ2iiZWD",
        "outputId": "66a04e75-9dff-4407-9ebb-b06815bd20b5"
      },
      "execution_count": 1,
      "outputs": [
        {
          "output_type": "stream",
          "name": "stdout",
          "text": [
            "nvcc: NVIDIA (R) Cuda compiler driver\n",
            "Copyright (c) 2005-2020 NVIDIA Corporation\n",
            "Built on Mon_Oct_12_20:09:46_PDT_2020\n",
            "Cuda compilation tools, release 11.1, V11.1.105\n",
            "Build cuda_11.1.TC455_06.29190527_0\n"
          ]
        }
      ]
    },
    {
      "cell_type": "code",
      "source": [
        "# Change your runtime type to GPU:\n",
        "#   Runtime --> Change runtime type"
      ],
      "metadata": {
        "id": "m_J55T43iVSw"
      },
      "execution_count": 2,
      "outputs": []
    },
    {
      "cell_type": "code",
      "execution_count": 3,
      "metadata": {
        "id": "DKJLxaDKhgi4",
        "colab": {
          "base_uri": "https://localhost:8080/"
        },
        "outputId": "4a0f0190-2dc4-4902-9757-842ac80616cd"
      },
      "outputs": [
        {
          "output_type": "stream",
          "name": "stdout",
          "text": [
            "Cloning into 'parallel-vec'...\n",
            "remote: Enumerating objects: 61, done.\u001b[K\n",
            "remote: Counting objects: 100% (61/61), done.\u001b[K\n",
            "remote: Compressing objects: 100% (43/43), done.\u001b[K\n",
            "remote: Total 61 (delta 19), reused 52 (delta 12), pack-reused 0\u001b[K\n",
            "Unpacking objects: 100% (61/61), done.\n"
          ]
        }
      ],
      "source": [
        "# clone the GitHub repository in your Google Colab environment\n",
        "!git clone https://github.com/SimoneGasperini/parallel-vec.git"
      ]
    },
    {
      "cell_type": "code",
      "source": [
        "# move to the main directory\n",
        "%cd parallel-vec/"
      ],
      "metadata": {
        "colab": {
          "base_uri": "https://localhost:8080/"
        },
        "id": "Q_GpFVWvgQe2",
        "outputId": "a71f3196-d926-4b96-ccce-17923041a726"
      },
      "execution_count": 4,
      "outputs": [
        {
          "output_type": "stream",
          "name": "stdout",
          "text": [
            "/content/parallel-vec\n"
          ]
        }
      ]
    },
    {
      "cell_type": "code",
      "source": [
        "# compile the source code using g++ (c++ serial version) and nvcc (cuda parallel version)\n",
        "!./compile_example.sh"
      ],
      "metadata": {
        "id": "PFWggXVqiRPC"
      },
      "execution_count": 5,
      "outputs": []
    },
    {
      "cell_type": "code",
      "source": [
        "# run the serial program example\n",
        "!./example_serial.out"
      ],
      "metadata": {
        "id": "5Nn6HjCwiqfM",
        "colab": {
          "base_uri": "https://localhost:8080/"
        },
        "outputId": "4c15f679-7704-40b4-cdee-f51b944e1665"
      },
      "execution_count": 10,
      "outputs": [
        {
          "output_type": "stream",
          "name": "stdout",
          "text": [
            "Sum 2 Vector objects of size = 80000000\n",
            "--> elapsed time = 0.718088\n"
          ]
        }
      ]
    },
    {
      "cell_type": "code",
      "source": [
        "# run the parallel program example\n",
        "!./example_parallel.out"
      ],
      "metadata": {
        "colab": {
          "base_uri": "https://localhost:8080/"
        },
        "id": "MJVe_X12fDqd",
        "outputId": "abcb4e1f-b0b6-4187-a7e4-845f95659ede"
      },
      "execution_count": 11,
      "outputs": [
        {
          "output_type": "stream",
          "name": "stdout",
          "text": [
            "Sum 2 Vector objects of size = 80000000\n",
            "--> elapsed time = 0.193867\n"
          ]
        }
      ]
    }
  ]
}