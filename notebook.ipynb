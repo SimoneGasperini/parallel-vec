{
  "nbformat": 4,
  "nbformat_minor": 0,
  "metadata": {
    "colab": {
      "name": "notebook.ipynb",
      "provenance": [],
      "collapsed_sections": [],
      "toc_visible": true
    },
    "kernelspec": {
      "name": "python3",
      "display_name": "Python 3"
    },
    "language_info": {
      "name": "python"
    }
  },
  "cells": [
    {
      "cell_type": "code",
      "execution_count": 1,
      "metadata": {
        "id": "DKJLxaDKhgi4",
        "colab": {
          "base_uri": "https://localhost:8080/"
        },
        "outputId": "03b38c78-6fe6-4c90-a127-0409229d5d76"
      },
      "outputs": [
        {
          "output_type": "stream",
          "name": "stdout",
          "text": [
            "Cloning into 'parallel-vec'...\n",
            "remote: Enumerating objects: 17, done.\u001b[K\n",
            "remote: Counting objects: 100% (17/17), done.\u001b[K\n",
            "remote: Compressing objects: 100% (12/12), done.\u001b[K\n",
            "remote: Total 17 (delta 3), reused 14 (delta 2), pack-reused 0\u001b[K\n",
            "Unpacking objects: 100% (17/17), done.\n"
          ]
        }
      ],
      "source": [
        "!git clone https://github.com/SimoneGasperini/parallel-vec.git"
      ]
    },
    {
      "cell_type": "code",
      "source": [
        "!cmake parallel-vec/."
      ],
      "metadata": {
        "id": "YhTDJ7FEh156",
        "colab": {
          "base_uri": "https://localhost:8080/"
        },
        "outputId": "7f4203f3-a3d9-46ff-ecf6-fcede4339f18"
      },
      "execution_count": 2,
      "outputs": [
        {
          "output_type": "stream",
          "name": "stdout",
          "text": [
            "-- The C compiler identification is GNU 7.5.0\n",
            "-- The CXX compiler identification is GNU 7.5.0\n",
            "-- Detecting C compiler ABI info\n",
            "-- Detecting C compiler ABI info - done\n",
            "-- Check for working C compiler: /usr/bin/cc - skipped\n",
            "-- Detecting C compile features\n",
            "-- Detecting C compile features - done\n",
            "-- Detecting CXX compiler ABI info\n",
            "-- Detecting CXX compiler ABI info - done\n",
            "-- Check for working CXX compiler: /usr/bin/c++ - skipped\n",
            "-- Detecting CXX compile features\n",
            "-- Detecting CXX compile features - done\n",
            "-- Configuring done\n",
            "-- Generating done\n",
            "-- Build files have been written to: /content\n"
          ]
        }
      ]
    },
    {
      "cell_type": "code",
      "source": [
        "!make"
      ],
      "metadata": {
        "id": "tt6ctKUbiGnT",
        "colab": {
          "base_uri": "https://localhost:8080/"
        },
        "outputId": "5759b00d-8b91-4059-9cc3-518f8e8084b1"
      },
      "execution_count": 3,
      "outputs": [
        {
          "output_type": "stream",
          "name": "stdout",
          "text": [
            "[ 33%] \u001b[32mBuilding CXX object CMakeFiles/parallel-vec.dir/src/serial_func.cpp.o\u001b[0m\n",
            "[ 66%] \u001b[32mBuilding CXX object CMakeFiles/parallel-vec.dir/src/vector.cpp.o\u001b[0m\n",
            "[100%] \u001b[32m\u001b[1mLinking CXX static library libparallel-vec.a\u001b[0m\n",
            "[100%] Built target parallel-vec\n"
          ]
        }
      ]
    },
    {
      "cell_type": "code",
      "source": [
        "!g++ parallel-vec/example.cpp -o run_example.out -L. -lparallel-vec"
      ],
      "metadata": {
        "id": "PFWggXVqiRPC"
      },
      "execution_count": 4,
      "outputs": []
    },
    {
      "cell_type": "code",
      "source": [
        "!./run_example.out"
      ],
      "metadata": {
        "id": "5Nn6HjCwiqfM",
        "colab": {
          "base_uri": "https://localhost:8080/"
        },
        "outputId": "f0ba4b4c-3a22-45ba-e4c8-ed0f8be3bda8"
      },
      "execution_count": 5,
      "outputs": [
        {
          "output_type": "stream",
          "name": "stdout",
          "text": [
            "sum = [3  5  4  6]\n",
            "dot = 16\n",
            "prod = [6  9  3  3]\n"
          ]
        }
      ]
    }
  ]
}